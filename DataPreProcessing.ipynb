{
 "cells": [
  {
   "cell_type": "markdown",
   "id": "1fe4ae3c-a549-4766-a3e3-eab533e744f5",
   "metadata": {},
   "source": [
    "# DATA PREPROCESSING"
   ]
  },
  {
   "cell_type": "markdown",
   "id": "34e6a9be-a41e-4da6-b0c8-911beb2a6717",
   "metadata": {},
   "source": [
    "Data preprocessing is a fundamental step in any data analysis or machine learning project. It involves cleaning, transforming, and organizing raw data into a format that is suitable for analysis or model training. This process is essential because real-world data often contains inconsistencies, missing values, and other imperfections that can hinder the performance of machine learning algorithms."
   ]
  },
  {
   "cell_type": "markdown",
   "id": "f4de7b97-47fe-475f-9dca-bbf57c77a135",
   "metadata": {},
   "source": [
    "In this scenario, we'll focus on preprocessing an employee dataset to make it suitable for analysis by machine learning algorithms. The employee dataset likely contains various attributes such as company,age, salary, place, country & gender. Before we can apply machine learning algorithms to this dataset, we need to preprocess it to address common issues and ensure that the data is in a format that the algorithms can effectively learn from."
   ]
  },
  {
   "cell_type": "code",
   "execution_count": 2,
   "id": "9d1d14f7-2845-4a0a-9497-958e8a19d70e",
   "metadata": {},
   "outputs": [],
   "source": [
    "#importing libraries\n",
    "import pandas as pd\n",
    "import numpy as np\n",
    "import seaborn as sns\n",
    "import matplotlib.pyplot as plt\n",
    "import math\n",
    "import sklearn"
   ]
  },
  {
   "cell_type": "code",
   "execution_count": 3,
   "id": "cdc59d14-ec42-4c75-8fda-2eb6a3b939c5",
   "metadata": {},
   "outputs": [
    {
     "data": {
      "text/html": [
       "<div>\n",
       "<style scoped>\n",
       "    .dataframe tbody tr th:only-of-type {\n",
       "        vertical-align: middle;\n",
       "    }\n",
       "\n",
       "    .dataframe tbody tr th {\n",
       "        vertical-align: top;\n",
       "    }\n",
       "\n",
       "    .dataframe thead th {\n",
       "        text-align: right;\n",
       "    }\n",
       "</style>\n",
       "<table border=\"1\" class=\"dataframe\">\n",
       "  <thead>\n",
       "    <tr style=\"text-align: right;\">\n",
       "      <th></th>\n",
       "      <th>Company</th>\n",
       "      <th>Age</th>\n",
       "      <th>Salary</th>\n",
       "      <th>Place</th>\n",
       "      <th>Country</th>\n",
       "      <th>Gender</th>\n",
       "    </tr>\n",
       "  </thead>\n",
       "  <tbody>\n",
       "    <tr>\n",
       "      <th>0</th>\n",
       "      <td>TCS</td>\n",
       "      <td>20.0</td>\n",
       "      <td>NaN</td>\n",
       "      <td>Chennai</td>\n",
       "      <td>India</td>\n",
       "      <td>0</td>\n",
       "    </tr>\n",
       "    <tr>\n",
       "      <th>1</th>\n",
       "      <td>Infosys</td>\n",
       "      <td>30.0</td>\n",
       "      <td>NaN</td>\n",
       "      <td>Mumbai</td>\n",
       "      <td>India</td>\n",
       "      <td>0</td>\n",
       "    </tr>\n",
       "    <tr>\n",
       "      <th>2</th>\n",
       "      <td>TCS</td>\n",
       "      <td>35.0</td>\n",
       "      <td>2300.0</td>\n",
       "      <td>Calcutta</td>\n",
       "      <td>India</td>\n",
       "      <td>0</td>\n",
       "    </tr>\n",
       "    <tr>\n",
       "      <th>3</th>\n",
       "      <td>Infosys</td>\n",
       "      <td>40.0</td>\n",
       "      <td>3000.0</td>\n",
       "      <td>Delhi</td>\n",
       "      <td>India</td>\n",
       "      <td>0</td>\n",
       "    </tr>\n",
       "    <tr>\n",
       "      <th>4</th>\n",
       "      <td>TCS</td>\n",
       "      <td>23.0</td>\n",
       "      <td>4000.0</td>\n",
       "      <td>Mumbai</td>\n",
       "      <td>India</td>\n",
       "      <td>0</td>\n",
       "    </tr>\n",
       "    <tr>\n",
       "      <th>...</th>\n",
       "      <td>...</td>\n",
       "      <td>...</td>\n",
       "      <td>...</td>\n",
       "      <td>...</td>\n",
       "      <td>...</td>\n",
       "      <td>...</td>\n",
       "    </tr>\n",
       "    <tr>\n",
       "      <th>143</th>\n",
       "      <td>TCS</td>\n",
       "      <td>33.0</td>\n",
       "      <td>9024.0</td>\n",
       "      <td>Calcutta</td>\n",
       "      <td>India</td>\n",
       "      <td>1</td>\n",
       "    </tr>\n",
       "    <tr>\n",
       "      <th>144</th>\n",
       "      <td>Infosys</td>\n",
       "      <td>22.0</td>\n",
       "      <td>8787.0</td>\n",
       "      <td>Calcutta</td>\n",
       "      <td>India</td>\n",
       "      <td>1</td>\n",
       "    </tr>\n",
       "    <tr>\n",
       "      <th>145</th>\n",
       "      <td>Infosys</td>\n",
       "      <td>44.0</td>\n",
       "      <td>4034.0</td>\n",
       "      <td>Delhi</td>\n",
       "      <td>India</td>\n",
       "      <td>1</td>\n",
       "    </tr>\n",
       "    <tr>\n",
       "      <th>146</th>\n",
       "      <td>TCS</td>\n",
       "      <td>33.0</td>\n",
       "      <td>5034.0</td>\n",
       "      <td>Mumbai</td>\n",
       "      <td>India</td>\n",
       "      <td>1</td>\n",
       "    </tr>\n",
       "    <tr>\n",
       "      <th>147</th>\n",
       "      <td>Infosys</td>\n",
       "      <td>22.0</td>\n",
       "      <td>8202.0</td>\n",
       "      <td>Cochin</td>\n",
       "      <td>India</td>\n",
       "      <td>0</td>\n",
       "    </tr>\n",
       "  </tbody>\n",
       "</table>\n",
       "<p>148 rows × 6 columns</p>\n",
       "</div>"
      ],
      "text/plain": [
       "     Company   Age  Salary     Place Country  Gender\n",
       "0        TCS  20.0     NaN   Chennai   India       0\n",
       "1    Infosys  30.0     NaN    Mumbai   India       0\n",
       "2        TCS  35.0  2300.0  Calcutta   India       0\n",
       "3    Infosys  40.0  3000.0     Delhi   India       0\n",
       "4        TCS  23.0  4000.0    Mumbai   India       0\n",
       "..       ...   ...     ...       ...     ...     ...\n",
       "143      TCS  33.0  9024.0  Calcutta   India       1\n",
       "144  Infosys  22.0  8787.0  Calcutta   India       1\n",
       "145  Infosys  44.0  4034.0     Delhi   India       1\n",
       "146      TCS  33.0  5034.0    Mumbai   India       1\n",
       "147  Infosys  22.0  8202.0    Cochin   India       0\n",
       "\n",
       "[148 rows x 6 columns]"
      ]
     },
     "execution_count": 3,
     "metadata": {},
     "output_type": "execute_result"
    }
   ],
   "source": [
    "#loading data\n",
    "df=pd.read_csv('Employee.csv')\n",
    "df"
   ]
  },
  {
   "cell_type": "markdown",
   "id": "4b461c72-3e91-46df-ac2b-aa31730ea7b8",
   "metadata": {},
   "source": [
    "### Data Exploration:"
   ]
  },
  {
   "cell_type": "code",
   "execution_count": 4,
   "id": "88b3af18-1dda-4b77-8835-9c10b1ac4b31",
   "metadata": {},
   "outputs": [
    {
     "name": "stdout",
     "output_type": "stream",
     "text": [
      "<class 'pandas.core.frame.DataFrame'>\n",
      "RangeIndex: 148 entries, 0 to 147\n",
      "Data columns (total 6 columns):\n",
      " #   Column   Non-Null Count  Dtype  \n",
      "---  ------   --------------  -----  \n",
      " 0   Company  140 non-null    object \n",
      " 1   Age      130 non-null    float64\n",
      " 2   Salary   124 non-null    float64\n",
      " 3   Place    134 non-null    object \n",
      " 4   Country  148 non-null    object \n",
      " 5   Gender   148 non-null    int64  \n",
      "dtypes: float64(2), int64(1), object(3)\n",
      "memory usage: 7.1+ KB\n"
     ]
    }
   ],
   "source": [
    "# To get info\n",
    "df.info()"
   ]
  },
  {
   "cell_type": "code",
   "execution_count": 5,
   "id": "5d180553-7777-4517-9644-20794021f297",
   "metadata": {},
   "outputs": [
    {
     "data": {
      "text/html": [
       "<div>\n",
       "<style scoped>\n",
       "    .dataframe tbody tr th:only-of-type {\n",
       "        vertical-align: middle;\n",
       "    }\n",
       "\n",
       "    .dataframe tbody tr th {\n",
       "        vertical-align: top;\n",
       "    }\n",
       "\n",
       "    .dataframe thead th {\n",
       "        text-align: right;\n",
       "    }\n",
       "</style>\n",
       "<table border=\"1\" class=\"dataframe\">\n",
       "  <thead>\n",
       "    <tr style=\"text-align: right;\">\n",
       "      <th></th>\n",
       "      <th>Company</th>\n",
       "      <th>Age</th>\n",
       "      <th>Salary</th>\n",
       "      <th>Place</th>\n",
       "      <th>Country</th>\n",
       "      <th>Gender</th>\n",
       "    </tr>\n",
       "  </thead>\n",
       "  <tbody>\n",
       "    <tr>\n",
       "      <th>0</th>\n",
       "      <td>TCS</td>\n",
       "      <td>20.0</td>\n",
       "      <td>NaN</td>\n",
       "      <td>Chennai</td>\n",
       "      <td>India</td>\n",
       "      <td>0</td>\n",
       "    </tr>\n",
       "    <tr>\n",
       "      <th>1</th>\n",
       "      <td>Infosys</td>\n",
       "      <td>30.0</td>\n",
       "      <td>NaN</td>\n",
       "      <td>Mumbai</td>\n",
       "      <td>India</td>\n",
       "      <td>0</td>\n",
       "    </tr>\n",
       "    <tr>\n",
       "      <th>2</th>\n",
       "      <td>TCS</td>\n",
       "      <td>35.0</td>\n",
       "      <td>2300.0</td>\n",
       "      <td>Calcutta</td>\n",
       "      <td>India</td>\n",
       "      <td>0</td>\n",
       "    </tr>\n",
       "    <tr>\n",
       "      <th>3</th>\n",
       "      <td>Infosys</td>\n",
       "      <td>40.0</td>\n",
       "      <td>3000.0</td>\n",
       "      <td>Delhi</td>\n",
       "      <td>India</td>\n",
       "      <td>0</td>\n",
       "    </tr>\n",
       "    <tr>\n",
       "      <th>4</th>\n",
       "      <td>TCS</td>\n",
       "      <td>23.0</td>\n",
       "      <td>4000.0</td>\n",
       "      <td>Mumbai</td>\n",
       "      <td>India</td>\n",
       "      <td>0</td>\n",
       "    </tr>\n",
       "  </tbody>\n",
       "</table>\n",
       "</div>"
      ],
      "text/plain": [
       "   Company   Age  Salary     Place Country  Gender\n",
       "0      TCS  20.0     NaN   Chennai   India       0\n",
       "1  Infosys  30.0     NaN    Mumbai   India       0\n",
       "2      TCS  35.0  2300.0  Calcutta   India       0\n",
       "3  Infosys  40.0  3000.0     Delhi   India       0\n",
       "4      TCS  23.0  4000.0    Mumbai   India       0"
      ]
     },
     "execution_count": 5,
     "metadata": {},
     "output_type": "execute_result"
    }
   ],
   "source": [
    "#To display the initial rows\n",
    "df.head()"
   ]
  },
  {
   "cell_type": "code",
   "execution_count": 6,
   "id": "239650d9-9cf2-488d-ae90-d1cd37aceef5",
   "metadata": {},
   "outputs": [
    {
     "data": {
      "text/html": [
       "<div>\n",
       "<style scoped>\n",
       "    .dataframe tbody tr th:only-of-type {\n",
       "        vertical-align: middle;\n",
       "    }\n",
       "\n",
       "    .dataframe tbody tr th {\n",
       "        vertical-align: top;\n",
       "    }\n",
       "\n",
       "    .dataframe thead th {\n",
       "        text-align: right;\n",
       "    }\n",
       "</style>\n",
       "<table border=\"1\" class=\"dataframe\">\n",
       "  <thead>\n",
       "    <tr style=\"text-align: right;\">\n",
       "      <th></th>\n",
       "      <th>Company</th>\n",
       "      <th>Age</th>\n",
       "      <th>Salary</th>\n",
       "      <th>Place</th>\n",
       "      <th>Country</th>\n",
       "      <th>Gender</th>\n",
       "    </tr>\n",
       "  </thead>\n",
       "  <tbody>\n",
       "    <tr>\n",
       "      <th>143</th>\n",
       "      <td>TCS</td>\n",
       "      <td>33.0</td>\n",
       "      <td>9024.0</td>\n",
       "      <td>Calcutta</td>\n",
       "      <td>India</td>\n",
       "      <td>1</td>\n",
       "    </tr>\n",
       "    <tr>\n",
       "      <th>144</th>\n",
       "      <td>Infosys</td>\n",
       "      <td>22.0</td>\n",
       "      <td>8787.0</td>\n",
       "      <td>Calcutta</td>\n",
       "      <td>India</td>\n",
       "      <td>1</td>\n",
       "    </tr>\n",
       "    <tr>\n",
       "      <th>145</th>\n",
       "      <td>Infosys</td>\n",
       "      <td>44.0</td>\n",
       "      <td>4034.0</td>\n",
       "      <td>Delhi</td>\n",
       "      <td>India</td>\n",
       "      <td>1</td>\n",
       "    </tr>\n",
       "    <tr>\n",
       "      <th>146</th>\n",
       "      <td>TCS</td>\n",
       "      <td>33.0</td>\n",
       "      <td>5034.0</td>\n",
       "      <td>Mumbai</td>\n",
       "      <td>India</td>\n",
       "      <td>1</td>\n",
       "    </tr>\n",
       "    <tr>\n",
       "      <th>147</th>\n",
       "      <td>Infosys</td>\n",
       "      <td>22.0</td>\n",
       "      <td>8202.0</td>\n",
       "      <td>Cochin</td>\n",
       "      <td>India</td>\n",
       "      <td>0</td>\n",
       "    </tr>\n",
       "  </tbody>\n",
       "</table>\n",
       "</div>"
      ],
      "text/plain": [
       "     Company   Age  Salary     Place Country  Gender\n",
       "143      TCS  33.0  9024.0  Calcutta   India       1\n",
       "144  Infosys  22.0  8787.0  Calcutta   India       1\n",
       "145  Infosys  44.0  4034.0     Delhi   India       1\n",
       "146      TCS  33.0  5034.0    Mumbai   India       1\n",
       "147  Infosys  22.0  8202.0    Cochin   India       0"
      ]
     },
     "execution_count": 6,
     "metadata": {},
     "output_type": "execute_result"
    }
   ],
   "source": [
    "#To display the final rows of the DataFrame\n",
    "df.tail()"
   ]
  },
  {
   "cell_type": "code",
   "execution_count": 7,
   "id": "c455b115-b14a-447e-a4c4-8e0b542a8abd",
   "metadata": {},
   "outputs": [
    {
     "data": {
      "text/plain": [
       "Index(['Company', 'Age', 'Salary', 'Place', 'Country', 'Gender'], dtype='object')"
      ]
     },
     "execution_count": 7,
     "metadata": {},
     "output_type": "execute_result"
    }
   ],
   "source": [
    "#To display column labels of DataFrame\n",
    "df.columns"
   ]
  },
  {
   "cell_type": "code",
   "execution_count": 8,
   "id": "2de16160-181c-4a57-858c-24ef0468b9f6",
   "metadata": {},
   "outputs": [
    {
     "name": "stdout",
     "output_type": "stream",
     "text": [
      "\n",
      "Statistical analysis on numerical features:\n"
     ]
    },
    {
     "data": {
      "text/html": [
       "<div>\n",
       "<style scoped>\n",
       "    .dataframe tbody tr th:only-of-type {\n",
       "        vertical-align: middle;\n",
       "    }\n",
       "\n",
       "    .dataframe tbody tr th {\n",
       "        vertical-align: top;\n",
       "    }\n",
       "\n",
       "    .dataframe thead th {\n",
       "        text-align: right;\n",
       "    }\n",
       "</style>\n",
       "<table border=\"1\" class=\"dataframe\">\n",
       "  <thead>\n",
       "    <tr style=\"text-align: right;\">\n",
       "      <th></th>\n",
       "      <th>Age</th>\n",
       "      <th>Salary</th>\n",
       "      <th>Gender</th>\n",
       "    </tr>\n",
       "  </thead>\n",
       "  <tbody>\n",
       "    <tr>\n",
       "      <th>count</th>\n",
       "      <td>130.000000</td>\n",
       "      <td>124.000000</td>\n",
       "      <td>148.000000</td>\n",
       "    </tr>\n",
       "    <tr>\n",
       "      <th>mean</th>\n",
       "      <td>30.484615</td>\n",
       "      <td>5312.467742</td>\n",
       "      <td>0.222973</td>\n",
       "    </tr>\n",
       "    <tr>\n",
       "      <th>std</th>\n",
       "      <td>11.096640</td>\n",
       "      <td>2573.764683</td>\n",
       "      <td>0.417654</td>\n",
       "    </tr>\n",
       "    <tr>\n",
       "      <th>min</th>\n",
       "      <td>0.000000</td>\n",
       "      <td>1089.000000</td>\n",
       "      <td>0.000000</td>\n",
       "    </tr>\n",
       "    <tr>\n",
       "      <th>25%</th>\n",
       "      <td>22.000000</td>\n",
       "      <td>3030.000000</td>\n",
       "      <td>0.000000</td>\n",
       "    </tr>\n",
       "    <tr>\n",
       "      <th>50%</th>\n",
       "      <td>32.500000</td>\n",
       "      <td>5000.000000</td>\n",
       "      <td>0.000000</td>\n",
       "    </tr>\n",
       "    <tr>\n",
       "      <th>75%</th>\n",
       "      <td>37.750000</td>\n",
       "      <td>8000.000000</td>\n",
       "      <td>0.000000</td>\n",
       "    </tr>\n",
       "    <tr>\n",
       "      <th>max</th>\n",
       "      <td>54.000000</td>\n",
       "      <td>9876.000000</td>\n",
       "      <td>1.000000</td>\n",
       "    </tr>\n",
       "  </tbody>\n",
       "</table>\n",
       "</div>"
      ],
      "text/plain": [
       "              Age       Salary      Gender\n",
       "count  130.000000   124.000000  148.000000\n",
       "mean    30.484615  5312.467742    0.222973\n",
       "std     11.096640  2573.764683    0.417654\n",
       "min      0.000000  1089.000000    0.000000\n",
       "25%     22.000000  3030.000000    0.000000\n",
       "50%     32.500000  5000.000000    0.000000\n",
       "75%     37.750000  8000.000000    0.000000\n",
       "max     54.000000  9876.000000    1.000000"
      ]
     },
     "execution_count": 8,
     "metadata": {},
     "output_type": "execute_result"
    }
   ],
   "source": [
    "#To display the statistical analysis for numerical columns within the DataFrame\n",
    "print(\"\\nStatistical analysis on numerical features:\")\n",
    "df.describe()"
   ]
  },
  {
   "cell_type": "code",
   "execution_count": 9,
   "id": "4dc7532a-11b3-48fc-a5e4-8c035e56f34b",
   "metadata": {},
   "outputs": [
    {
     "data": {
      "image/png": "[encoded data removed]",
      "text/plain": [
       "<Figure size 1200x600 with 1 Axes>"
      ]
     },
     "metadata": {},
     "output_type": "display_data"
    }
   ],
   "source": [
    "#Plotting to identify the presence of outliers\n",
    "\n",
    "plt.figure(figsize=(12, 6))\n",
    "df.boxplot()\n",
    "plt.title('Box plot of numerical columns')\n",
    "plt.xticks(rotation=45)\n",
    "plt.show()"
   ]
  },
  {
   "cell_type": "markdown",
   "id": "32dd8226-be92-49e9-9971-3d5aa09294b7",
   "metadata": {},
   "source": [
    "From the box plot we can infer that, there is no significant outliers present in this dataframe"
   ]
  },
  {
   "cell_type": "code",
   "execution_count": 10,
   "id": "4202cad4-d556-433e-92f5-dd6ed63d5217",
   "metadata": {},
   "outputs": [
    {
     "data": {
      "text/plain": [
       "Company     8\n",
       "Age        18\n",
       "Salary     24\n",
       "Place      14\n",
       "Country     0\n",
       "Gender      0\n",
       "dtype: int64"
      ]
     },
     "execution_count": 10,
     "metadata": {},
     "output_type": "execute_result"
    }
   ],
   "source": [
    "#Checking is there any null value\n",
    "df.isnull().sum()"
   ]
  },
  {
   "cell_type": "markdown",
   "id": "ebc2eb4f-505d-480f-8104-a6023f0c6cd5",
   "metadata": {},
   "source": [
    "In employee table, null values are present in all columns except for gender and country."
   ]
  },
  {
   "cell_type": "code",
   "execution_count": 11,
   "id": "c1cbdef3-b3aa-4f40-9281-4f72d060b7fc",
   "metadata": {},
   "outputs": [
    {
     "data": {
      "text/html": [
       "<div>\n",
       "<style scoped>\n",
       "    .dataframe tbody tr th:only-of-type {\n",
       "        vertical-align: middle;\n",
       "    }\n",
       "\n",
       "    .dataframe tbody tr th {\n",
       "        vertical-align: top;\n",
       "    }\n",
       "\n",
       "    .dataframe thead th {\n",
       "        text-align: right;\n",
       "    }\n",
       "</style>\n",
       "<table border=\"1\" class=\"dataframe\">\n",
       "  <thead>\n",
       "    <tr style=\"text-align: right;\">\n",
       "      <th></th>\n",
       "      <th>Company</th>\n",
       "      <th>Age</th>\n",
       "      <th>Salary</th>\n",
       "      <th>State</th>\n",
       "      <th>Country</th>\n",
       "      <th>Gender</th>\n",
       "    </tr>\n",
       "  </thead>\n",
       "  <tbody>\n",
       "    <tr>\n",
       "      <th>0</th>\n",
       "      <td>TCS</td>\n",
       "      <td>20.0</td>\n",
       "      <td>NaN</td>\n",
       "      <td>Chennai</td>\n",
       "      <td>India</td>\n",
       "      <td>0</td>\n",
       "    </tr>\n",
       "    <tr>\n",
       "      <th>1</th>\n",
       "      <td>Infosys</td>\n",
       "      <td>30.0</td>\n",
       "      <td>NaN</td>\n",
       "      <td>Mumbai</td>\n",
       "      <td>India</td>\n",
       "      <td>0</td>\n",
       "    </tr>\n",
       "    <tr>\n",
       "      <th>2</th>\n",
       "      <td>TCS</td>\n",
       "      <td>35.0</td>\n",
       "      <td>2300.0</td>\n",
       "      <td>Calcutta</td>\n",
       "      <td>India</td>\n",
       "      <td>0</td>\n",
       "    </tr>\n",
       "    <tr>\n",
       "      <th>3</th>\n",
       "      <td>Infosys</td>\n",
       "      <td>40.0</td>\n",
       "      <td>3000.0</td>\n",
       "      <td>Delhi</td>\n",
       "      <td>India</td>\n",
       "      <td>0</td>\n",
       "    </tr>\n",
       "    <tr>\n",
       "      <th>4</th>\n",
       "      <td>TCS</td>\n",
       "      <td>23.0</td>\n",
       "      <td>4000.0</td>\n",
       "      <td>Mumbai</td>\n",
       "      <td>India</td>\n",
       "      <td>0</td>\n",
       "    </tr>\n",
       "    <tr>\n",
       "      <th>...</th>\n",
       "      <td>...</td>\n",
       "      <td>...</td>\n",
       "      <td>...</td>\n",
       "      <td>...</td>\n",
       "      <td>...</td>\n",
       "      <td>...</td>\n",
       "    </tr>\n",
       "    <tr>\n",
       "      <th>143</th>\n",
       "      <td>TCS</td>\n",
       "      <td>33.0</td>\n",
       "      <td>9024.0</td>\n",
       "      <td>Calcutta</td>\n",
       "      <td>India</td>\n",
       "      <td>1</td>\n",
       "    </tr>\n",
       "    <tr>\n",
       "      <th>144</th>\n",
       "      <td>Infosys</td>\n",
       "      <td>22.0</td>\n",
       "      <td>8787.0</td>\n",
       "      <td>Calcutta</td>\n",
       "      <td>India</td>\n",
       "      <td>1</td>\n",
       "    </tr>\n",
       "    <tr>\n",
       "      <th>145</th>\n",
       "      <td>Infosys</td>\n",
       "      <td>44.0</td>\n",
       "      <td>4034.0</td>\n",
       "      <td>Delhi</td>\n",
       "      <td>India</td>\n",
       "      <td>1</td>\n",
       "    </tr>\n",
       "    <tr>\n",
       "      <th>146</th>\n",
       "      <td>TCS</td>\n",
       "      <td>33.0</td>\n",
       "      <td>5034.0</td>\n",
       "      <td>Mumbai</td>\n",
       "      <td>India</td>\n",
       "      <td>1</td>\n",
       "    </tr>\n",
       "    <tr>\n",
       "      <th>147</th>\n",
       "      <td>Infosys</td>\n",
       "      <td>22.0</td>\n",
       "      <td>8202.0</td>\n",
       "      <td>Cochin</td>\n",
       "      <td>India</td>\n",
       "      <td>0</td>\n",
       "    </tr>\n",
       "  </tbody>\n",
       "</table>\n",
       "<p>148 rows × 6 columns</p>\n",
       "</div>"
      ],
      "text/plain": [
       "     Company   Age  Salary     State Country  Gender\n",
       "0        TCS  20.0     NaN   Chennai   India       0\n",
       "1    Infosys  30.0     NaN    Mumbai   India       0\n",
       "2        TCS  35.0  2300.0  Calcutta   India       0\n",
       "3    Infosys  40.0  3000.0     Delhi   India       0\n",
       "4        TCS  23.0  4000.0    Mumbai   India       0\n",
       "..       ...   ...     ...       ...     ...     ...\n",
       "143      TCS  33.0  9024.0  Calcutta   India       1\n",
       "144  Infosys  22.0  8787.0  Calcutta   India       1\n",
       "145  Infosys  44.0  4034.0     Delhi   India       1\n",
       "146      TCS  33.0  5034.0    Mumbai   India       1\n",
       "147  Infosys  22.0  8202.0    Cochin   India       0\n",
       "\n",
       "[148 rows x 6 columns]"
      ]
     },
     "execution_count": 11,
     "metadata": {},
     "output_type": "execute_result"
    }
   ],
   "source": [
    "#renaming column 'place' to 'State'\n",
    "df.rename(columns={'Place': 'State'}, inplace=True)\n",
    "df"
   ]
  },
  {
   "cell_type": "code",
   "execution_count": 12,
   "id": "cada4945-0625-4693-80ed-a31670a2b626",
   "metadata": {},
   "outputs": [
    {
     "data": {
      "text/html": [
       "<div>\n",
       "<style scoped>\n",
       "    .dataframe tbody tr th:only-of-type {\n",
       "        vertical-align: middle;\n",
       "    }\n",
       "\n",
       "    .dataframe tbody tr th {\n",
       "        vertical-align: top;\n",
       "    }\n",
       "\n",
       "    .dataframe thead th {\n",
       "        text-align: right;\n",
       "    }\n",
       "</style>\n",
       "<table border=\"1\" class=\"dataframe\">\n",
       "  <thead>\n",
       "    <tr style=\"text-align: right;\">\n",
       "      <th></th>\n",
       "      <th>Company</th>\n",
       "      <th>Age</th>\n",
       "      <th>Salary</th>\n",
       "      <th>State</th>\n",
       "      <th>Country</th>\n",
       "      <th>Gender</th>\n",
       "    </tr>\n",
       "  </thead>\n",
       "  <tbody>\n",
       "    <tr>\n",
       "      <th>0</th>\n",
       "      <td>TCS</td>\n",
       "      <td>20.0</td>\n",
       "      <td>NaN</td>\n",
       "      <td>Chennai</td>\n",
       "      <td>India</td>\n",
       "      <td>0</td>\n",
       "    </tr>\n",
       "    <tr>\n",
       "      <th>1</th>\n",
       "      <td>Infosys</td>\n",
       "      <td>30.0</td>\n",
       "      <td>NaN</td>\n",
       "      <td>Mumbai</td>\n",
       "      <td>India</td>\n",
       "      <td>0</td>\n",
       "    </tr>\n",
       "    <tr>\n",
       "      <th>2</th>\n",
       "      <td>TCS</td>\n",
       "      <td>35.0</td>\n",
       "      <td>2300.0</td>\n",
       "      <td>Calcutta</td>\n",
       "      <td>India</td>\n",
       "      <td>0</td>\n",
       "    </tr>\n",
       "    <tr>\n",
       "      <th>3</th>\n",
       "      <td>Infosys</td>\n",
       "      <td>40.0</td>\n",
       "      <td>3000.0</td>\n",
       "      <td>Delhi</td>\n",
       "      <td>India</td>\n",
       "      <td>0</td>\n",
       "    </tr>\n",
       "    <tr>\n",
       "      <th>4</th>\n",
       "      <td>TCS</td>\n",
       "      <td>23.0</td>\n",
       "      <td>4000.0</td>\n",
       "      <td>Mumbai</td>\n",
       "      <td>India</td>\n",
       "      <td>0</td>\n",
       "    </tr>\n",
       "    <tr>\n",
       "      <th>...</th>\n",
       "      <td>...</td>\n",
       "      <td>...</td>\n",
       "      <td>...</td>\n",
       "      <td>...</td>\n",
       "      <td>...</td>\n",
       "      <td>...</td>\n",
       "    </tr>\n",
       "    <tr>\n",
       "      <th>142</th>\n",
       "      <td>Infosys Pvt Lmt</td>\n",
       "      <td>22.0</td>\n",
       "      <td>8202.0</td>\n",
       "      <td>Mumbai</td>\n",
       "      <td>India</td>\n",
       "      <td>0</td>\n",
       "    </tr>\n",
       "    <tr>\n",
       "      <th>143</th>\n",
       "      <td>TCS</td>\n",
       "      <td>33.0</td>\n",
       "      <td>9024.0</td>\n",
       "      <td>Calcutta</td>\n",
       "      <td>India</td>\n",
       "      <td>1</td>\n",
       "    </tr>\n",
       "    <tr>\n",
       "      <th>145</th>\n",
       "      <td>Infosys</td>\n",
       "      <td>44.0</td>\n",
       "      <td>4034.0</td>\n",
       "      <td>Delhi</td>\n",
       "      <td>India</td>\n",
       "      <td>1</td>\n",
       "    </tr>\n",
       "    <tr>\n",
       "      <th>146</th>\n",
       "      <td>TCS</td>\n",
       "      <td>33.0</td>\n",
       "      <td>5034.0</td>\n",
       "      <td>Mumbai</td>\n",
       "      <td>India</td>\n",
       "      <td>1</td>\n",
       "    </tr>\n",
       "    <tr>\n",
       "      <th>147</th>\n",
       "      <td>Infosys</td>\n",
       "      <td>22.0</td>\n",
       "      <td>8202.0</td>\n",
       "      <td>Cochin</td>\n",
       "      <td>India</td>\n",
       "      <td>0</td>\n",
       "    </tr>\n",
       "  </tbody>\n",
       "</table>\n",
       "<p>144 rows × 6 columns</p>\n",
       "</div>"
      ],
      "text/plain": [
       "             Company   Age  Salary     State Country  Gender\n",
       "0                TCS  20.0     NaN   Chennai   India       0\n",
       "1            Infosys  30.0     NaN    Mumbai   India       0\n",
       "2                TCS  35.0  2300.0  Calcutta   India       0\n",
       "3            Infosys  40.0  3000.0     Delhi   India       0\n",
       "4                TCS  23.0  4000.0    Mumbai   India       0\n",
       "..               ...   ...     ...       ...     ...     ...\n",
       "142  Infosys Pvt Lmt  22.0  8202.0    Mumbai   India       0\n",
       "143              TCS  33.0  9024.0  Calcutta   India       1\n",
       "145          Infosys  44.0  4034.0     Delhi   India       1\n",
       "146              TCS  33.0  5034.0    Mumbai   India       1\n",
       "147          Infosys  22.0  8202.0    Cochin   India       0\n",
       "\n",
       "[144 rows x 6 columns]"
      ]
     },
     "execution_count": 12,
     "metadata": {},
     "output_type": "execute_result"
    }
   ],
   "source": [
    "#To remove any duplicate records\n",
    "df=df.drop_duplicates()\n",
    "df"
   ]
  },
  {
   "cell_type": "code",
   "execution_count": 13,
   "id": "0c6babc6-57b5-4a12-b723-682b2f86ecef",
   "metadata": {},
   "outputs": [],
   "source": [
    "df=df.reset_index(drop=True)"
   ]
  },
  {
   "cell_type": "code",
   "execution_count": 14,
   "id": "f17019ad-f666-4a17-80ed-b8679f2529d6",
   "metadata": {},
   "outputs": [
    {
     "name": "stdout",
     "output_type": "stream",
     "text": [
      "Unqiue Values in each feature  & its Length\n",
      "Company : ['TCS' 'Infosys' 'CTS' nan 'Tata Consultancy Services' 'Congnizant'\n",
      " 'Infosys Pvt Lmt'] (Length: 7 )\n",
      "Age : [20. 30. 35. 40. 23. nan 34. 45. 18. 22. 32. 37. 50. 21. 46. 36. 26. 41.\n",
      " 24. 25. 43. 19. 38. 51. 31. 44. 33. 17.  0. 54.] (Length: 30 )\n",
      "Salary : [  nan 2300. 3000. 4000. 5000. 6000. 7000. 8000. 9000. 1089. 1234. 3030.\n",
      " 3045. 3184. 4824. 5835. 7084. 8943. 8345. 9284. 9876. 2034. 7654. 2934.\n",
      " 4034. 5034. 8202. 9024. 4345. 6544. 6543. 3234. 4324. 5435. 5555. 8787.\n",
      " 3454. 5654. 5009. 5098. 3033.] (Length: 41 )\n",
      "State : ['Chennai' 'Mumbai' 'Calcutta' 'Delhi' 'Podicherry' 'Cochin' nan 'Noida'\n",
      " 'Hyderabad' 'Bhopal' 'Nagpur' 'Pune'] (Length: 12 )\n",
      "Country : ['India'] (Length: 1 )\n",
      "Gender : [0 1] (Length: 2 )\n"
     ]
    }
   ],
   "source": [
    "#listing down the unique values in each feature and find its length\n",
    "print(\"Unqiue Values in each feature  & its Length\")\n",
    "for column in df.columns:\n",
    "    unique_values=df[column].unique()\n",
    "    length= len(df[column].unique())\n",
    "    print(column,\":\",unique_values,\"(Length:\",length,\")\")"
   ]
  },
  {
   "cell_type": "markdown",
   "id": "84bcd55c-ffdf-48c6-a1fd-eb45a982fd63",
   "metadata": {},
   "source": [
    "### Data Cleaning: "
   ]
  },
  {
   "cell_type": "code",
   "execution_count": 49,
   "id": "3cdaef7a-efce-4ab7-bb6f-629bea79220f",
   "metadata": {},
   "outputs": [],
   "source": [
    "#replacing incorrect data 'Tata Consultancy Services' to 'TCS'\n",
    "df['Company'] = df['Company'].replace('Tata Consultancy Services', 'TCS')"
   ]
  },
  {
   "cell_type": "code",
   "execution_count": 50,
   "id": "97a658fe-8c51-454f-b92b-fe948a6a999f",
   "metadata": {},
   "outputs": [],
   "source": [
    "#replacing incorrect data 'Infosys Pvt Lmt' to 'TCS'\n",
    "df['Company'] = df['Company'].replace('Infosys Pvt Lmt', 'Infosys')"
   ]
  },
  {
   "cell_type": "code",
   "execution_count": 17,
   "id": "77ad7c46-4490-4096-b223-b03f5d277581",
   "metadata": {},
   "outputs": [
    {
     "data": {
      "text/html": [
       "<div>\n",
       "<style scoped>\n",
       "    .dataframe tbody tr th:only-of-type {\n",
       "        vertical-align: middle;\n",
       "    }\n",
       "\n",
       "    .dataframe tbody tr th {\n",
       "        vertical-align: top;\n",
       "    }\n",
       "\n",
       "    .dataframe thead th {\n",
       "        text-align: right;\n",
       "    }\n",
       "</style>\n",
       "<table border=\"1\" class=\"dataframe\">\n",
       "  <thead>\n",
       "    <tr style=\"text-align: right;\">\n",
       "      <th></th>\n",
       "      <th>Company</th>\n",
       "      <th>Age</th>\n",
       "      <th>Salary</th>\n",
       "      <th>State</th>\n",
       "      <th>Country</th>\n",
       "      <th>Gender</th>\n",
       "    </tr>\n",
       "  </thead>\n",
       "  <tbody>\n",
       "    <tr>\n",
       "      <th>87</th>\n",
       "      <td>Infosys</td>\n",
       "      <td>0.0</td>\n",
       "      <td>3030.0</td>\n",
       "      <td>Calcutta</td>\n",
       "      <td>India</td>\n",
       "      <td>0</td>\n",
       "    </tr>\n",
       "    <tr>\n",
       "      <th>91</th>\n",
       "      <td>TCS</td>\n",
       "      <td>0.0</td>\n",
       "      <td>3045.0</td>\n",
       "      <td>Delhi</td>\n",
       "      <td>India</td>\n",
       "      <td>0</td>\n",
       "    </tr>\n",
       "    <tr>\n",
       "      <th>100</th>\n",
       "      <td>CTS</td>\n",
       "      <td>0.0</td>\n",
       "      <td>2034.0</td>\n",
       "      <td>Podicherry</td>\n",
       "      <td>India</td>\n",
       "      <td>0</td>\n",
       "    </tr>\n",
       "    <tr>\n",
       "      <th>106</th>\n",
       "      <td>TCS</td>\n",
       "      <td>0.0</td>\n",
       "      <td>9024.0</td>\n",
       "      <td>Chennai</td>\n",
       "      <td>India</td>\n",
       "      <td>1</td>\n",
       "    </tr>\n",
       "    <tr>\n",
       "      <th>110</th>\n",
       "      <td>Infosys</td>\n",
       "      <td>0.0</td>\n",
       "      <td>3234.0</td>\n",
       "      <td>Mumbai</td>\n",
       "      <td>India</td>\n",
       "      <td>0</td>\n",
       "    </tr>\n",
       "    <tr>\n",
       "      <th>120</th>\n",
       "      <td>CTS</td>\n",
       "      <td>0.0</td>\n",
       "      <td>1234.0</td>\n",
       "      <td>Calcutta</td>\n",
       "      <td>India</td>\n",
       "      <td>0</td>\n",
       "    </tr>\n",
       "  </tbody>\n",
       "</table>\n",
       "</div>"
      ],
      "text/plain": [
       "     Company  Age  Salary       State Country  Gender\n",
       "87   Infosys  0.0  3030.0    Calcutta   India       0\n",
       "91       TCS  0.0  3045.0       Delhi   India       0\n",
       "100      CTS  0.0  2034.0  Podicherry   India       0\n",
       "106      TCS  0.0  9024.0     Chennai   India       1\n",
       "110  Infosys  0.0  3234.0      Mumbai   India       0\n",
       "120      CTS  0.0  1234.0    Calcutta   India       0"
      ]
     },
     "execution_count": 17,
     "metadata": {},
     "output_type": "execute_result"
    }
   ],
   "source": [
    "df[df['Age']==0]"
   ]
  },
  {
   "cell_type": "code",
   "execution_count": 18,
   "id": "7a16d221-323c-4a98-88d2-68af0f28af30",
   "metadata": {},
   "outputs": [],
   "source": [
    "# Replace 0 with NaN in the \"Age\" column\n",
    "df['Age'] = df['Age'].replace(0.0, np.NaN)"
   ]
  },
  {
   "cell_type": "code",
   "execution_count": 19,
   "id": "946f8db5-4f3e-4f7f-bb2d-76ce60d7cc77",
   "metadata": {},
   "outputs": [
    {
     "data": {
      "text/plain": [
       "23"
      ]
     },
     "execution_count": 19,
     "metadata": {},
     "output_type": "execute_result"
    }
   ],
   "source": [
    "df['Age'].isnull().sum()"
   ]
  },
  {
   "cell_type": "markdown",
   "id": "aa324b51-56e2-453c-90a9-361a0b2b923e",
   "metadata": {},
   "source": [
    "There exist 23 null values in age columns. So we need to replace these null values"
   ]
  },
  {
   "cell_type": "code",
   "execution_count": 20,
   "id": "c865e53f-bd2e-4303-b1f2-965abcc58a73",
   "metadata": {},
   "outputs": [
    {
     "data": {
      "text/plain": [
       "33"
      ]
     },
     "execution_count": 20,
     "metadata": {},
     "output_type": "execute_result"
    }
   ],
   "source": [
    "mean_age=math.ceil(df['Age'].mean())\n",
    "mean_age"
   ]
  },
  {
   "cell_type": "code",
   "execution_count": 21,
   "id": "13201c77-dd11-43af-b730-8f6c9ed6a42e",
   "metadata": {},
   "outputs": [
    {
     "data": {
      "text/plain": [
       "33"
      ]
     },
     "execution_count": 21,
     "metadata": {},
     "output_type": "execute_result"
    }
   ],
   "source": [
    "median_age=math.ceil(df['Age'].median())\n",
    "median_age"
   ]
  },
  {
   "cell_type": "markdown",
   "id": "2383735f-d908-4f1f-8011-5c5fa6f82d9f",
   "metadata": {},
   "source": [
    "We can infer that there is no significant difference between mean and median, which indicates minimal occurrence of outliers. Hence we can replace the null values by mean"
   ]
  },
  {
   "cell_type": "code",
   "execution_count": 22,
   "id": "08fa8a69-a4c3-41d7-951e-cdbdc1ea020a",
   "metadata": {},
   "outputs": [],
   "source": [
    "# Replace NaN in the \"Age\" column with mean value\n",
    "df['Age'] = df['Age'].replace(np.NaN, mean_age)"
   ]
  },
  {
   "cell_type": "code",
   "execution_count": 23,
   "id": "4d1c5e4d-b3a3-4bcd-aef5-651047348e01",
   "metadata": {},
   "outputs": [
    {
     "data": {
      "text/plain": [
       "array([20., 30., 35., 40., 23., 33., 34., 45., 18., 22., 32., 37., 50.,\n",
       "       21., 46., 36., 26., 41., 24., 25., 43., 19., 38., 51., 31., 44.,\n",
       "       17., 54.])"
      ]
     },
     "execution_count": 23,
     "metadata": {},
     "output_type": "execute_result"
    }
   ],
   "source": [
    "unique_age=df['Age'].unique()\n",
    "unique_age"
   ]
  },
  {
   "cell_type": "code",
   "execution_count": 24,
   "id": "352086da-6311-4c40-afb8-b338848d2643",
   "metadata": {},
   "outputs": [
    {
     "data": {
      "text/plain": [
       "5283.471074380165"
      ]
     },
     "execution_count": 24,
     "metadata": {},
     "output_type": "execute_result"
    }
   ],
   "source": [
    "mean_salary=df['Salary'].mean()\n",
    "mean_salary"
   ]
  },
  {
   "cell_type": "markdown",
   "id": "f6db55e9-2d87-464d-94c3-c434fb18a994",
   "metadata": {},
   "source": [
    "We can infer that there is no significant difference between mean and median, which indicates minimal occurrence of outliers. Hence we can replace the null values by mean"
   ]
  },
  {
   "cell_type": "code",
   "execution_count": 25,
   "id": "6253a6b1-21f1-469e-8c6c-203bf49024c4",
   "metadata": {},
   "outputs": [
    {
     "data": {
      "text/plain": [
       "5000.0"
      ]
     },
     "execution_count": 25,
     "metadata": {},
     "output_type": "execute_result"
    }
   ],
   "source": [
    "median_salary=df['Salary'].median()\n",
    "median_salary"
   ]
  },
  {
   "cell_type": "code",
   "execution_count": 26,
   "id": "5027b350-3ada-40a6-b585-b77cd7923fc9",
   "metadata": {},
   "outputs": [],
   "source": [
    "# Replace NaN in the \"Salary\" column with mean value\n",
    "df['Salary'] = df['Salary'].replace(np.NaN, mean_salary)"
   ]
  },
  {
   "cell_type": "markdown",
   "id": "8df24200-63c7-4781-a8f2-e5e0e74708d3",
   "metadata": {},
   "source": [
    "Hence gender column is discrete, we can replace the null values by mode of gender"
   ]
  },
  {
   "cell_type": "code",
   "execution_count": 27,
   "id": "57c6ade5-52b2-46ed-9194-8c932b76ff6d",
   "metadata": {},
   "outputs": [
    {
     "data": {
      "text/plain": [
       "0"
      ]
     },
     "execution_count": 27,
     "metadata": {},
     "output_type": "execute_result"
    }
   ],
   "source": [
    "df['Gender'].isnull().sum()"
   ]
  },
  {
   "cell_type": "markdown",
   "id": "0783f623-37a5-4b7f-b783-f0802ec59168",
   "metadata": {},
   "source": [
    "Gender column doesn't contain null values"
   ]
  },
  {
   "cell_type": "code",
   "execution_count": 28,
   "id": "9b45d3d5-421b-4136-83a9-a77a049563fc",
   "metadata": {},
   "outputs": [
    {
     "data": {
      "text/plain": [
       "14"
      ]
     },
     "execution_count": 28,
     "metadata": {},
     "output_type": "execute_result"
    }
   ],
   "source": [
    "df['State'].isnull().sum()"
   ]
  },
  {
   "cell_type": "markdown",
   "id": "3149e449-d929-4bb2-b2c0-f4319e3ec92e",
   "metadata": {},
   "source": [
    "State column contains 14 null values. State column contains discrete values, hence we can replace it by mode of state"
   ]
  },
  {
   "cell_type": "code",
   "execution_count": 29,
   "id": "f3ea2e3f-f03a-4cdf-801e-0999e6f33d0c",
   "metadata": {},
   "outputs": [
    {
     "data": {
      "text/plain": [
       "'Mumbai'"
      ]
     },
     "execution_count": 29,
     "metadata": {},
     "output_type": "execute_result"
    }
   ],
   "source": [
    "mode_state=df['State'].mode()[0]\n",
    "mode_state"
   ]
  },
  {
   "cell_type": "code",
   "execution_count": 30,
   "id": "dffc741a-0cc1-4b67-a90f-056bc22ce0d1",
   "metadata": {},
   "outputs": [],
   "source": [
    "# Replace NaN in the \"State\" column with mode\n",
    "df['State'] = df['State'].replace(np.NaN, mode_state)"
   ]
  },
  {
   "cell_type": "code",
   "execution_count": 31,
   "id": "795e82ab-346c-42b6-bf66-1b1345b2bebe",
   "metadata": {},
   "outputs": [
    {
     "data": {
      "text/plain": [
       "8"
      ]
     },
     "execution_count": 31,
     "metadata": {},
     "output_type": "execute_result"
    }
   ],
   "source": [
    "df['Company'].isnull().sum()"
   ]
  },
  {
   "cell_type": "markdown",
   "id": "7901d0ff-b70f-4440-9d4f-309e076c1279",
   "metadata": {},
   "source": [
    "There exist 8 null values in company columns. Company column contains discrete values, we can replace it by mode"
   ]
  },
  {
   "cell_type": "code",
   "execution_count": 32,
   "id": "e36aa672-4c77-4501-87a0-ccb073432d13",
   "metadata": {},
   "outputs": [
    {
     "data": {
      "text/plain": [
       "'TCS'"
      ]
     },
     "execution_count": 32,
     "metadata": {},
     "output_type": "execute_result"
    }
   ],
   "source": [
    "mode_company=df['Company'].mode()[0]\n",
    "mode_company"
   ]
  },
  {
   "cell_type": "code",
   "execution_count": 33,
   "id": "d246f5e4-9d20-4764-9a88-82a573442991",
   "metadata": {
    "scrolled": true
   },
   "outputs": [],
   "source": [
    "# Replace NaN in the \"Company\" column with mode\n",
    "df['Company'] = df['Company'].replace(np.NaN, mode_company)"
   ]
  },
  {
   "cell_type": "code",
   "execution_count": 34,
   "id": "467f739d-fee4-45c7-931e-dfb295873124",
   "metadata": {},
   "outputs": [
    {
     "data": {
      "text/plain": [
       "Company    0\n",
       "Age        0\n",
       "Salary     0\n",
       "State      0\n",
       "Country    0\n",
       "Gender     0\n",
       "dtype: int64"
      ]
     },
     "execution_count": 34,
     "metadata": {},
     "output_type": "execute_result"
    }
   ],
   "source": [
    "df.isnull().sum()"
   ]
  },
  {
   "cell_type": "markdown",
   "id": "7bb17ff0-4a5d-48a2-8407-e528e1796048",
   "metadata": {},
   "source": [
    "We have replaced all null values by appropriate measures"
   ]
  },
  {
   "cell_type": "markdown",
   "id": "eec94256-dc51-4b83-9ee4-5588d22c1456",
   "metadata": {},
   "source": [
    "### Data Analysis"
   ]
  },
  {
   "cell_type": "code",
   "execution_count": 35,
   "id": "592096aa-f940-4548-8dd1-38e504f7f907",
   "metadata": {},
   "outputs": [
    {
     "data": {
      "text/html": [
       "<div>\n",
       "<style scoped>\n",
       "    .dataframe tbody tr th:only-of-type {\n",
       "        vertical-align: middle;\n",
       "    }\n",
       "\n",
       "    .dataframe tbody tr th {\n",
       "        vertical-align: top;\n",
       "    }\n",
       "\n",
       "    .dataframe thead th {\n",
       "        text-align: right;\n",
       "    }\n",
       "</style>\n",
       "<table border=\"1\" class=\"dataframe\">\n",
       "  <thead>\n",
       "    <tr style=\"text-align: right;\">\n",
       "      <th></th>\n",
       "      <th>Company</th>\n",
       "      <th>Age</th>\n",
       "      <th>Salary</th>\n",
       "      <th>State</th>\n",
       "      <th>Country</th>\n",
       "      <th>Gender</th>\n",
       "    </tr>\n",
       "  </thead>\n",
       "  <tbody>\n",
       "    <tr>\n",
       "      <th>21</th>\n",
       "      <td>Infosys</td>\n",
       "      <td>50.0</td>\n",
       "      <td>3184.0</td>\n",
       "      <td>Delhi</td>\n",
       "      <td>India</td>\n",
       "      <td>0</td>\n",
       "    </tr>\n",
       "    <tr>\n",
       "      <th>32</th>\n",
       "      <td>Infosys</td>\n",
       "      <td>45.0</td>\n",
       "      <td>4034.0</td>\n",
       "      <td>Calcutta</td>\n",
       "      <td>India</td>\n",
       "      <td>0</td>\n",
       "    </tr>\n",
       "    <tr>\n",
       "      <th>39</th>\n",
       "      <td>Infosys</td>\n",
       "      <td>41.0</td>\n",
       "      <td>3000.0</td>\n",
       "      <td>Mumbai</td>\n",
       "      <td>India</td>\n",
       "      <td>0</td>\n",
       "    </tr>\n",
       "    <tr>\n",
       "      <th>50</th>\n",
       "      <td>Infosys</td>\n",
       "      <td>41.0</td>\n",
       "      <td>3000.0</td>\n",
       "      <td>Chennai</td>\n",
       "      <td>India</td>\n",
       "      <td>0</td>\n",
       "    </tr>\n",
       "    <tr>\n",
       "      <th>57</th>\n",
       "      <td>Infosys</td>\n",
       "      <td>51.0</td>\n",
       "      <td>3184.0</td>\n",
       "      <td>Hyderabad</td>\n",
       "      <td>India</td>\n",
       "      <td>0</td>\n",
       "    </tr>\n",
       "    <tr>\n",
       "      <th>68</th>\n",
       "      <td>Infosys</td>\n",
       "      <td>43.0</td>\n",
       "      <td>4034.0</td>\n",
       "      <td>Mumbai</td>\n",
       "      <td>India</td>\n",
       "      <td>0</td>\n",
       "    </tr>\n",
       "    <tr>\n",
       "      <th>75</th>\n",
       "      <td>Infosys</td>\n",
       "      <td>44.0</td>\n",
       "      <td>3000.0</td>\n",
       "      <td>Cochin</td>\n",
       "      <td>India</td>\n",
       "      <td>0</td>\n",
       "    </tr>\n",
       "    <tr>\n",
       "      <th>85</th>\n",
       "      <td>Infosys</td>\n",
       "      <td>41.0</td>\n",
       "      <td>3000.0</td>\n",
       "      <td>Delhi</td>\n",
       "      <td>India</td>\n",
       "      <td>0</td>\n",
       "    </tr>\n",
       "    <tr>\n",
       "      <th>92</th>\n",
       "      <td>Infosys</td>\n",
       "      <td>54.0</td>\n",
       "      <td>3184.0</td>\n",
       "      <td>Mumbai</td>\n",
       "      <td>India</td>\n",
       "      <td>0</td>\n",
       "    </tr>\n",
       "    <tr>\n",
       "      <th>103</th>\n",
       "      <td>Infosys</td>\n",
       "      <td>44.0</td>\n",
       "      <td>4034.0</td>\n",
       "      <td>Delhi</td>\n",
       "      <td>India</td>\n",
       "      <td>0</td>\n",
       "    </tr>\n",
       "    <tr>\n",
       "      <th>121</th>\n",
       "      <td>Infosys</td>\n",
       "      <td>44.0</td>\n",
       "      <td>3234.0</td>\n",
       "      <td>Mumbai</td>\n",
       "      <td>India</td>\n",
       "      <td>0</td>\n",
       "    </tr>\n",
       "    <tr>\n",
       "      <th>128</th>\n",
       "      <td>Infosys</td>\n",
       "      <td>50.0</td>\n",
       "      <td>3184.0</td>\n",
       "      <td>Calcutta</td>\n",
       "      <td>India</td>\n",
       "      <td>0</td>\n",
       "    </tr>\n",
       "    <tr>\n",
       "      <th>135</th>\n",
       "      <td>CTS</td>\n",
       "      <td>44.0</td>\n",
       "      <td>3033.0</td>\n",
       "      <td>Cochin</td>\n",
       "      <td>India</td>\n",
       "      <td>0</td>\n",
       "    </tr>\n",
       "    <tr>\n",
       "      <th>137</th>\n",
       "      <td>Infosys</td>\n",
       "      <td>44.0</td>\n",
       "      <td>4034.0</td>\n",
       "      <td>Hyderabad</td>\n",
       "      <td>India</td>\n",
       "      <td>0</td>\n",
       "    </tr>\n",
       "    <tr>\n",
       "      <th>141</th>\n",
       "      <td>Infosys</td>\n",
       "      <td>44.0</td>\n",
       "      <td>4034.0</td>\n",
       "      <td>Delhi</td>\n",
       "      <td>India</td>\n",
       "      <td>1</td>\n",
       "    </tr>\n",
       "  </tbody>\n",
       "</table>\n",
       "</div>"
      ],
      "text/plain": [
       "     Company   Age  Salary      State Country  Gender\n",
       "21   Infosys  50.0  3184.0      Delhi   India       0\n",
       "32   Infosys  45.0  4034.0   Calcutta   India       0\n",
       "39   Infosys  41.0  3000.0     Mumbai   India       0\n",
       "50   Infosys  41.0  3000.0    Chennai   India       0\n",
       "57   Infosys  51.0  3184.0  Hyderabad   India       0\n",
       "68   Infosys  43.0  4034.0     Mumbai   India       0\n",
       "75   Infosys  44.0  3000.0     Cochin   India       0\n",
       "85   Infosys  41.0  3000.0      Delhi   India       0\n",
       "92   Infosys  54.0  3184.0     Mumbai   India       0\n",
       "103  Infosys  44.0  4034.0      Delhi   India       0\n",
       "121  Infosys  44.0  3234.0     Mumbai   India       0\n",
       "128  Infosys  50.0  3184.0   Calcutta   India       0\n",
       "135      CTS  44.0  3033.0     Cochin   India       0\n",
       "137  Infosys  44.0  4034.0  Hyderabad   India       0\n",
       "141  Infosys  44.0  4034.0      Delhi   India       1"
      ]
     },
     "execution_count": 35,
     "metadata": {},
     "output_type": "execute_result"
    }
   ],
   "source": [
    "#Filtering the data with age >40 and salary<5000\n",
    "filtered_data = df[(df['Age'] > 40) & (df['Salary'] < 5000)]\n",
    "filtered_data"
   ]
  },
  {
   "cell_type": "code",
   "execution_count": 36,
   "id": "b9119855-2934-4cc7-af6f-76971d29d86f",
   "metadata": {},
   "outputs": [
    {
     "data": {
      "image/png": "[encoded data removed]",
      "text/plain": [
       "<Figure size 640x480 with 1 Axes>"
      ]
     },
     "metadata": {},
     "output_type": "display_data"
    }
   ],
   "source": [
    "#Plotting the chart with age and salary\n",
    "\n",
    "#plotting scatter plot\n",
    "plt.scatter(df['Age'], df['Salary'], color='green')\n",
    "\n",
    "#Setting the label & title\n",
    "plt.xlabel('Age')\n",
    "plt.ylabel('Salary')\n",
    "plt.title('Age vs Salary')\n",
    "\n",
    "\n",
    "#show the plot\n",
    "plt.show()"
   ]
  },
  {
   "cell_type": "code",
   "execution_count": 37,
   "id": "2738142f-8c17-419d-9e4b-17c99a91b5a0",
   "metadata": {},
   "outputs": [
    {
     "data": {
      "image/png": "[encoded data removed]",
      "text/plain": [
       "<Figure size 1000x600 with 1 Axes>"
      ]
     },
     "metadata": {},
     "output_type": "display_data"
    }
   ],
   "source": [
    "#Counting the number of people from each place and represent it visually\n",
    "\n",
    "#counting no:of people in each state\n",
    "state_counts = df['State'].value_counts()\n",
    "\n",
    "# Plotting the bar chart\n",
    "plt.figure(figsize=(10, 6))\n",
    "state_counts.plot(kind='bar', color='green')\n",
    "\n",
    "# Setting the labels and title\n",
    "plt.xlabel('State')\n",
    "plt.ylabel('Number of People')\n",
    "plt.title('Number of People from Each State')\n",
    "\n",
    "# Showing the plot\n",
    "plt.xticks(rotation=45)  \n",
    "plt.show()"
   ]
  },
  {
   "cell_type": "markdown",
   "id": "2e3d0288-7900-4753-bc4e-06ca5bcf9a22",
   "metadata": {},
   "source": [
    "### Data Encoding"
   ]
  },
  {
   "cell_type": "markdown",
   "id": "cbb0ef91-d57f-423c-90b7-831ca1853525",
   "metadata": {},
   "source": [
    "Converting categorical variables into numerical representations using techniques such as one-hot encoding & label encoding, making them suitable for analysis by machine learning algorithms."
   ]
  },
  {
   "cell_type": "markdown",
   "id": "5cf45526-f5b9-4a22-a8fb-d6c8e86692b7",
   "metadata": {},
   "source": [
    "#### 1.One-Hot Encoding"
   ]
  },
  {
   "cell_type": "code",
   "execution_count": 38,
   "id": "b182c8bc-a1a1-4413-b79f-7377f69bdffc",
   "metadata": {},
   "outputs": [
    {
     "name": "stdout",
     "output_type": "stream",
     "text": [
      "      Age       Salary  Gender  Company_CTS  Company_Congnizant  \\\n",
      "0    20.0  5283.471074       0        False               False   \n",
      "1    30.0  5283.471074       0        False               False   \n",
      "2    35.0  2300.000000       0        False               False   \n",
      "3    40.0  3000.000000       0        False               False   \n",
      "4    23.0  4000.000000       0        False               False   \n",
      "..    ...          ...     ...          ...                 ...   \n",
      "139  22.0  8202.000000       0        False               False   \n",
      "140  33.0  9024.000000       1        False               False   \n",
      "141  44.0  4034.000000       1        False               False   \n",
      "142  33.0  5034.000000       1        False               False   \n",
      "143  22.0  8202.000000       0        False               False   \n",
      "\n",
      "     Company_Infosys  Company_TCS  State_Bhopal  State_Calcutta  \\\n",
      "0              False         True         False           False   \n",
      "1               True        False         False           False   \n",
      "2              False         True         False            True   \n",
      "3               True        False         False           False   \n",
      "4              False         True         False           False   \n",
      "..               ...          ...           ...             ...   \n",
      "139             True        False         False           False   \n",
      "140            False         True         False            True   \n",
      "141             True        False         False           False   \n",
      "142            False         True         False           False   \n",
      "143             True        False         False           False   \n",
      "\n",
      "     State_Chennai  State_Cochin  State_Delhi  State_Hyderabad  State_Mumbai  \\\n",
      "0             True         False        False            False         False   \n",
      "1            False         False        False            False          True   \n",
      "2            False         False        False            False         False   \n",
      "3            False         False         True            False         False   \n",
      "4            False         False        False            False          True   \n",
      "..             ...           ...          ...              ...           ...   \n",
      "139          False         False        False            False          True   \n",
      "140          False         False        False            False         False   \n",
      "141          False         False         True            False         False   \n",
      "142          False         False        False            False          True   \n",
      "143          False          True        False            False         False   \n",
      "\n",
      "     State_Nagpur  State_Noida  State_Podicherry  State_Pune  Country_India  \n",
      "0           False        False             False       False           True  \n",
      "1           False        False             False       False           True  \n",
      "2           False        False             False       False           True  \n",
      "3           False        False             False       False           True  \n",
      "4           False        False             False       False           True  \n",
      "..            ...          ...               ...         ...            ...  \n",
      "139         False        False             False       False           True  \n",
      "140         False        False             False       False           True  \n",
      "141         False        False             False       False           True  \n",
      "142         False        False             False       False           True  \n",
      "143         False        False             False       False           True  \n",
      "\n",
      "[144 rows x 19 columns]\n"
     ]
    }
   ],
   "source": [
    "#using get_dummies function\n",
    "\n",
    "df_one_hot_encoded = pd.get_dummies(data = df, columns = [\"Company\", \"State\",\"Country\"])\n",
    "\n",
    "print(df_one_hot_encoded )"
   ]
  },
  {
   "cell_type": "markdown",
   "id": "193996d6-ce55-4b2d-8932-0c88d7725434",
   "metadata": {},
   "source": [
    "Each unique value in Company,state & Country columns have been converted into a new binary column where False represent 0 and True represent 1"
   ]
  },
  {
   "cell_type": "code",
   "execution_count": 39,
   "id": "71ee0d56-1549-4e3b-b269-4363192ce4d5",
   "metadata": {},
   "outputs": [
    {
     "name": "stdout",
     "output_type": "stream",
     "text": [
      "['is_TCS', 'is_Infosys', 'is_CTS', 'is_Congnizant', 'is_Chennai', 'is_Mumbai', 'is_Calcutta', 'is_Delhi', 'is_Podicherry', 'is_Cochin', 'is_Noida', 'is_Hyderabad', 'is_Bhopal', 'is_Nagpur', 'is_Pune', 'is_India']\n",
      "[[0. 0. 0. ... 0. 0. 1.]\n",
      " [0. 0. 1. ... 0. 0. 1.]\n",
      " [0. 0. 0. ... 0. 0. 1.]\n",
      " ...\n",
      " [0. 0. 1. ... 0. 0. 1.]\n",
      " [0. 0. 0. ... 0. 0. 1.]\n",
      " [0. 0. 1. ... 0. 0. 1.]]\n",
      "     is_TCS  is_Infosys  is_CTS  is_Congnizant  is_Chennai  is_Mumbai  \\\n",
      "0       0.0         0.0     0.0            1.0         0.0        0.0   \n",
      "1       0.0         0.0     1.0            0.0         0.0        0.0   \n",
      "2       0.0         0.0     0.0            1.0         0.0        1.0   \n",
      "3       0.0         0.0     1.0            0.0         0.0        0.0   \n",
      "4       0.0         0.0     0.0            1.0         0.0        0.0   \n",
      "..      ...         ...     ...            ...         ...        ...   \n",
      "139     0.0         0.0     1.0            0.0         0.0        0.0   \n",
      "140     0.0         0.0     0.0            1.0         0.0        1.0   \n",
      "141     0.0         0.0     1.0            0.0         0.0        0.0   \n",
      "142     0.0         0.0     0.0            1.0         0.0        0.0   \n",
      "143     0.0         0.0     1.0            0.0         0.0        0.0   \n",
      "\n",
      "     is_Calcutta  is_Delhi  is_Podicherry  is_Cochin  is_Noida  is_Hyderabad  \\\n",
      "0            1.0       0.0            0.0        0.0       0.0           0.0   \n",
      "1            0.0       0.0            0.0        0.0       1.0           0.0   \n",
      "2            0.0       0.0            0.0        0.0       0.0           0.0   \n",
      "3            0.0       0.0            1.0        0.0       0.0           0.0   \n",
      "4            0.0       0.0            0.0        0.0       1.0           0.0   \n",
      "..           ...       ...            ...        ...       ...           ...   \n",
      "139          0.0       0.0            0.0        0.0       1.0           0.0   \n",
      "140          0.0       0.0            0.0        0.0       0.0           0.0   \n",
      "141          0.0       0.0            1.0        0.0       0.0           0.0   \n",
      "142          0.0       0.0            0.0        0.0       1.0           0.0   \n",
      "143          0.0       1.0            0.0        0.0       0.0           0.0   \n",
      "\n",
      "     is_Bhopal  is_Nagpur  is_Pune  is_India  \n",
      "0          0.0        0.0      0.0       1.0  \n",
      "1          0.0        0.0      0.0       1.0  \n",
      "2          0.0        0.0      0.0       1.0  \n",
      "3          0.0        0.0      0.0       1.0  \n",
      "4          0.0        0.0      0.0       1.0  \n",
      "..         ...        ...      ...       ...  \n",
      "139        0.0        0.0      0.0       1.0  \n",
      "140        0.0        0.0      0.0       1.0  \n",
      "141        0.0        0.0      0.0       1.0  \n",
      "142        0.0        0.0      0.0       1.0  \n",
      "143        0.0        0.0      0.0       1.0  \n",
      "\n",
      "[144 rows x 16 columns]\n",
      "     Company   Age       Salary     State Country  Gender  is_TCS  is_Infosys  \\\n",
      "0        TCS  20.0  5283.471074   Chennai   India       0     0.0         0.0   \n",
      "1    Infosys  30.0  5283.471074    Mumbai   India       0     0.0         0.0   \n",
      "2        TCS  35.0  2300.000000  Calcutta   India       0     0.0         0.0   \n",
      "3    Infosys  40.0  3000.000000     Delhi   India       0     0.0         0.0   \n",
      "4        TCS  23.0  4000.000000    Mumbai   India       0     0.0         0.0   \n",
      "..       ...   ...          ...       ...     ...     ...     ...         ...   \n",
      "139  Infosys  22.0  8202.000000    Mumbai   India       0     0.0         0.0   \n",
      "140      TCS  33.0  9024.000000  Calcutta   India       1     0.0         0.0   \n",
      "141  Infosys  44.0  4034.000000     Delhi   India       1     0.0         0.0   \n",
      "142      TCS  33.0  5034.000000    Mumbai   India       1     0.0         0.0   \n",
      "143  Infosys  22.0  8202.000000    Cochin   India       0     0.0         0.0   \n",
      "\n",
      "     is_CTS  is_Congnizant  ...  is_Calcutta  is_Delhi  is_Podicherry  \\\n",
      "0       0.0            1.0  ...          1.0       0.0            0.0   \n",
      "1       1.0            0.0  ...          0.0       0.0            0.0   \n",
      "2       0.0            1.0  ...          0.0       0.0            0.0   \n",
      "3       1.0            0.0  ...          0.0       0.0            1.0   \n",
      "4       0.0            1.0  ...          0.0       0.0            0.0   \n",
      "..      ...            ...  ...          ...       ...            ...   \n",
      "139     1.0            0.0  ...          0.0       0.0            0.0   \n",
      "140     0.0            1.0  ...          0.0       0.0            0.0   \n",
      "141     1.0            0.0  ...          0.0       0.0            1.0   \n",
      "142     0.0            1.0  ...          0.0       0.0            0.0   \n",
      "143     1.0            0.0  ...          0.0       1.0            0.0   \n",
      "\n",
      "     is_Cochin  is_Noida  is_Hyderabad  is_Bhopal  is_Nagpur  is_Pune  \\\n",
      "0          0.0       0.0           0.0        0.0        0.0      0.0   \n",
      "1          0.0       1.0           0.0        0.0        0.0      0.0   \n",
      "2          0.0       0.0           0.0        0.0        0.0      0.0   \n",
      "3          0.0       0.0           0.0        0.0        0.0      0.0   \n",
      "4          0.0       1.0           0.0        0.0        0.0      0.0   \n",
      "..         ...       ...           ...        ...        ...      ...   \n",
      "139        0.0       1.0           0.0        0.0        0.0      0.0   \n",
      "140        0.0       0.0           0.0        0.0        0.0      0.0   \n",
      "141        0.0       0.0           0.0        0.0        0.0      0.0   \n",
      "142        0.0       1.0           0.0        0.0        0.0      0.0   \n",
      "143        0.0       0.0           0.0        0.0        0.0      0.0   \n",
      "\n",
      "     is_India  \n",
      "0         1.0  \n",
      "1         1.0  \n",
      "2         1.0  \n",
      "3         1.0  \n",
      "4         1.0  \n",
      "..        ...  \n",
      "139       1.0  \n",
      "140       1.0  \n",
      "141       1.0  \n",
      "142       1.0  \n",
      "143       1.0  \n",
      "\n",
      "[144 rows x 22 columns]\n"
     ]
    }
   ],
   "source": [
    "#using OneHotEncoder Function\n",
    "\n",
    "from sklearn.preprocessing import OneHotEncoder\n",
    "\n",
    "\n",
    "cols_to_encode = [\"Company\", \"State\",\"Country\"]\n",
    "new_encoded_cols = []\n",
    "\n",
    "\n",
    "# Create a list of new columns names\n",
    "for col in cols_to_encode:\n",
    "    new_encoded_cols += [f\"is_{category}\" for category in df[col].unique().tolist()]\n",
    "\n",
    "print(new_encoded_cols)\n",
    "#['is_TCS', 'is_Infosys', 'is_CTS', 'is_Congnizant', 'is_Chennai', 'is_Mumbai', 'is_Calcutta', 'is_Delhi', 'is_Podicherry', 'is_Cochin', 'is_Noida', 'is_Hyderabad', 'is_Bhopal', 'is_Nagpur', 'is_Pune', 'is_India']\n",
    "\n",
    "\n",
    "# Inititalize and fit One Hot Encoder class from sklearn\n",
    "one_hot_encoder = OneHotEncoder(sparse_output = False,handle_unknown = 'ignore')\n",
    "encoded_cols = one_hot_encoder.fit_transform(df[cols_to_encode])\n",
    "print(encoded_cols)\n",
    "\n",
    "# As the output of the above transformer would be a sparse matrix, we need to convert it back to Pandas dataframe\n",
    "df_encoded = pd.DataFrame(encoded_cols, columns = new_encoded_cols)\n",
    "print(df_encoded)\n",
    "df_one_hot_encoded = df.join(df_encoded)\n",
    "\n",
    "print(df_one_hot_encoded)\n"
   ]
  },
  {
   "cell_type": "markdown",
   "id": "c4e27872-26dc-4391-aa2d-f6ed88115868",
   "metadata": {},
   "source": [
    "#### 2.Label Encoding"
   ]
  },
  {
   "cell_type": "code",
   "execution_count": 40,
   "id": "f3c5824c-b820-4d0d-9863-42d9483d6e31",
   "metadata": {},
   "outputs": [
    {
     "name": "stdout",
     "output_type": "stream",
     "text": [
      "     Company   Age       Salary  State  Country  Gender\n",
      "0          3  20.0  5283.471074      2        0       0\n",
      "1          2  30.0  5283.471074      6        0       0\n",
      "2          3  35.0  2300.000000      1        0       0\n",
      "3          2  40.0  3000.000000      4        0       0\n",
      "4          3  23.0  4000.000000      6        0       0\n",
      "..       ...   ...          ...    ...      ...     ...\n",
      "139        2  22.0  8202.000000      6        0       0\n",
      "140        3  33.0  9024.000000      1        0       1\n",
      "141        2  44.0  4034.000000      4        0       1\n",
      "142        3  33.0  5034.000000      6        0       1\n",
      "143        2  22.0  8202.000000      3        0       0\n",
      "\n",
      "[144 rows x 6 columns]\n"
     ]
    }
   ],
   "source": [
    "#Label Encoding\n",
    "\n",
    "from sklearn.preprocessing import LabelEncoder\n",
    "\n",
    "cols_to_encode = [\"Company\", \"State\", \"Country\"]\n",
    "\n",
    "#label_encoder is the object of LabelEncode\n",
    "label_encoder = LabelEncoder()\n",
    "\n",
    "# Initialize a new DataFrame to store the encoded columns\n",
    "df_label_encoded = df.copy()\n",
    "\n",
    "# Encode each column in cols_to_encode\n",
    "for col in cols_to_encode:\n",
    "    df_label_encoded[col] = label_encoder.fit_transform(df[col])\n",
    "\n",
    "print(df_label_encoded)"
   ]
  },
  {
   "cell_type": "markdown",
   "id": "1974051c-7081-4a35-9c3d-05ff70048254",
   "metadata": {},
   "source": [
    "#### Feature Scaling"
   ]
  },
  {
   "cell_type": "markdown",
   "id": "659d1005-588b-47cf-956e-e6df76edf841",
   "metadata": {},
   "source": [
    "Feature scaling is a technique used in machine learning and data preprocessing to standardize the range of independent variables or features in the dataset. The goal of feature scaling is to ensure that all features contribute equally to the analysis and modeling process, preventing features with larger scales from dominating those with smaller scales."
   ]
  },
  {
   "cell_type": "markdown",
   "id": "d6493899-1770-494c-8b1e-590720c00786",
   "metadata": {},
   "source": [
    "#### 1.Standard Scaler"
   ]
  },
  {
   "cell_type": "code",
   "execution_count": 41,
   "id": "6b2fabcb-3af8-4520-a980-3ef4410279d9",
   "metadata": {},
   "outputs": [
    {
     "name": "stdout",
     "output_type": "stream",
     "text": [
      "     Company       Age    Salary     State Country  Gender\n",
      "0        TCS -1.484676  0.000000   Chennai   India       0\n",
      "1    Infosys -0.267174  0.000000    Mumbai   India       0\n",
      "2        TCS  0.341577 -1.264122  Calcutta   India       0\n",
      "3    Infosys  0.950328 -0.967526     Delhi   India       0\n",
      "4        TCS -1.119426 -0.543818    Mumbai   India       0\n",
      "..       ...       ...       ...       ...     ...     ...\n",
      "139  Infosys -1.241176  1.236606    Mumbai   India       0\n",
      "140      TCS  0.098077  1.584894  Calcutta   India       1\n",
      "141  Infosys  1.437329 -0.529412     Delhi   India       1\n",
      "142      TCS  0.098077 -0.105703    Mumbai   India       1\n",
      "143  Infosys -1.241176  1.236606    Cochin   India       0\n",
      "\n",
      "[144 rows x 6 columns]\n"
     ]
    }
   ],
   "source": [
    "from sklearn.preprocessing import StandardScaler\n",
    "\n",
    "Columns_to_Scale=df[['Age','Salary']]\n",
    "# Create a scaler object\n",
    "scaler = StandardScaler()\n",
    "\n",
    "# Fit the scaler on the data\n",
    "scaler.fit(Columns_to_Scale)\n",
    "\n",
    "# Transform the data\n",
    "scaled_data = scaler.transform(Columns_to_Scale)\n",
    "\n",
    "# Convert scaled data to DataFrame\n",
    "scaled_df = pd.DataFrame(scaled_data, columns=['Age', 'Salary'])\n",
    "\n",
    "# Initialize a new DataFrame to store after applying standard scaler\n",
    "df_standard = df.copy()\n",
    "\n",
    "# Replace scaled columns in the original DataFrame\n",
    "df_standard[['Age', 'Salary']] = scaled_df\n",
    "\n",
    "# Print the DataFrame with scaled columns replaced by original values\n",
    "print(df_standard)\n"
   ]
  },
  {
   "cell_type": "code",
   "execution_count": 42,
   "id": "69d5c888-fbbb-4c4e-8c89-0b20c6359552",
   "metadata": {},
   "outputs": [
    {
     "name": "stdout",
     "output_type": "stream",
     "text": [
      "     Company       Age    Salary  State  Country  Gender\n",
      "0          3 -1.484676  0.000000      2        0       0\n",
      "1          2 -0.267174  0.000000      6        0       0\n",
      "2          3  0.341577 -1.264122      1        0       0\n",
      "3          2  0.950328 -0.967526      4        0       0\n",
      "4          3 -1.119426 -0.543818      6        0       0\n",
      "..       ...       ...       ...    ...      ...     ...\n",
      "139        2 -1.241176  1.236606      6        0       0\n",
      "140        3  0.098077  1.584894      1        0       1\n",
      "141        2  1.437329 -0.529412      4        0       1\n",
      "142        3  0.098077 -0.105703      6        0       1\n",
      "143        2 -1.241176  1.236606      3        0       0\n",
      "\n",
      "[144 rows x 6 columns]\n"
     ]
    }
   ],
   "source": [
    "#dataframe after label encoding & standard scaling\n",
    "\n",
    "\n",
    "# Initialize a new DataFrame to store after applying standard scaler\n",
    "df_standard = df_label_encoded.copy()\n",
    "\n",
    "# Replace scaled columns in the original DataFrame\n",
    "df_standard[['Age', 'Salary']] = scaled_df\n",
    "\n",
    "# Print the DataFrame with scaled columns replaced by original values\n",
    "print(df_standard)\n"
   ]
  },
  {
   "cell_type": "code",
   "execution_count": 43,
   "id": "394ab66f-e9fe-41f6-97cb-f83fe3786640",
   "metadata": {},
   "outputs": [
    {
     "name": "stdout",
     "output_type": "stream",
     "text": [
      "     Company       Age    Salary     State Country  Gender  is_TCS  \\\n",
      "0        TCS -1.484676  0.000000   Chennai   India       0     0.0   \n",
      "1    Infosys -0.267174  0.000000    Mumbai   India       0     0.0   \n",
      "2        TCS  0.341577 -1.264122  Calcutta   India       0     0.0   \n",
      "3    Infosys  0.950328 -0.967526     Delhi   India       0     0.0   \n",
      "4        TCS -1.119426 -0.543818    Mumbai   India       0     0.0   \n",
      "..       ...       ...       ...       ...     ...     ...     ...   \n",
      "139  Infosys -1.241176  1.236606    Mumbai   India       0     0.0   \n",
      "140      TCS  0.098077  1.584894  Calcutta   India       1     0.0   \n",
      "141  Infosys  1.437329 -0.529412     Delhi   India       1     0.0   \n",
      "142      TCS  0.098077 -0.105703    Mumbai   India       1     0.0   \n",
      "143  Infosys -1.241176  1.236606    Cochin   India       0     0.0   \n",
      "\n",
      "     is_Infosys  is_CTS  is_Congnizant  ...  is_Calcutta  is_Delhi  \\\n",
      "0           0.0     0.0            1.0  ...          1.0       0.0   \n",
      "1           0.0     1.0            0.0  ...          0.0       0.0   \n",
      "2           0.0     0.0            1.0  ...          0.0       0.0   \n",
      "3           0.0     1.0            0.0  ...          0.0       0.0   \n",
      "4           0.0     0.0            1.0  ...          0.0       0.0   \n",
      "..          ...     ...            ...  ...          ...       ...   \n",
      "139         0.0     1.0            0.0  ...          0.0       0.0   \n",
      "140         0.0     0.0            1.0  ...          0.0       0.0   \n",
      "141         0.0     1.0            0.0  ...          0.0       0.0   \n",
      "142         0.0     0.0            1.0  ...          0.0       0.0   \n",
      "143         0.0     1.0            0.0  ...          0.0       1.0   \n",
      "\n",
      "     is_Podicherry  is_Cochin  is_Noida  is_Hyderabad  is_Bhopal  is_Nagpur  \\\n",
      "0              0.0        0.0       0.0           0.0        0.0        0.0   \n",
      "1              0.0        0.0       1.0           0.0        0.0        0.0   \n",
      "2              0.0        0.0       0.0           0.0        0.0        0.0   \n",
      "3              1.0        0.0       0.0           0.0        0.0        0.0   \n",
      "4              0.0        0.0       1.0           0.0        0.0        0.0   \n",
      "..             ...        ...       ...           ...        ...        ...   \n",
      "139            0.0        0.0       1.0           0.0        0.0        0.0   \n",
      "140            0.0        0.0       0.0           0.0        0.0        0.0   \n",
      "141            1.0        0.0       0.0           0.0        0.0        0.0   \n",
      "142            0.0        0.0       1.0           0.0        0.0        0.0   \n",
      "143            0.0        0.0       0.0           0.0        0.0        0.0   \n",
      "\n",
      "     is_Pune  is_India  \n",
      "0        0.0       1.0  \n",
      "1        0.0       1.0  \n",
      "2        0.0       1.0  \n",
      "3        0.0       1.0  \n",
      "4        0.0       1.0  \n",
      "..       ...       ...  \n",
      "139      0.0       1.0  \n",
      "140      0.0       1.0  \n",
      "141      0.0       1.0  \n",
      "142      0.0       1.0  \n",
      "143      0.0       1.0  \n",
      "\n",
      "[144 rows x 22 columns]\n"
     ]
    }
   ],
   "source": [
    "#dataframe after OneHotEncoding & standard scaling\n",
    "\n",
    "# Initialize a new DataFrame to store after applying standard scaler\n",
    "df_standard = df_one_hot_encoded.copy()\n",
    "\n",
    "# Replace scaled columns in the original DataFrame\n",
    "df_standard[['Age', 'Salary']] = scaled_df\n",
    "\n",
    "# Print the DataFrame with scaled columns replaced by original values\n",
    "print(df_standard)"
   ]
  },
  {
   "cell_type": "markdown",
   "id": "0946cbf5-f8d9-4664-8ce8-e608d86de64c",
   "metadata": {},
   "source": [
    "#### 2.MinMaxScaler"
   ]
  },
  {
   "cell_type": "code",
   "execution_count": 44,
   "id": "26cac3a1-f061-4fef-bfcb-16b075ab313b",
   "metadata": {},
   "outputs": [
    {
     "name": "stdout",
     "output_type": "stream",
     "text": [
      "     Company       Age    Salary     State Country  Gender\n",
      "0        TCS  0.081081  0.477350   Chennai   India       0\n",
      "1    Infosys  0.351351  0.477350    Mumbai   India       0\n",
      "2        TCS  0.486486  0.137817  Calcutta   India       0\n",
      "3    Infosys  0.621622  0.217480     Delhi   India       0\n",
      "4        TCS  0.162162  0.331285    Mumbai   India       0\n",
      "..       ...       ...       ...       ...     ...     ...\n",
      "139  Infosys  0.135135  0.809491    Mumbai   India       0\n",
      "140      TCS  0.432432  0.903039  Calcutta   India       1\n",
      "141  Infosys  0.729730  0.335154     Delhi   India       1\n",
      "142      TCS  0.432432  0.448959    Mumbai   India       1\n",
      "143  Infosys  0.135135  0.809491    Cochin   India       0\n",
      "\n",
      "[144 rows x 6 columns]\n"
     ]
    }
   ],
   "source": [
    "import pandas as pd\n",
    "from sklearn.preprocessing import MinMaxScaler\n",
    "\n",
    "Columns_to_Scale=df[['Age','Salary']]\n",
    "\n",
    "# Create a scaler object\n",
    "scaler = MinMaxScaler()\n",
    "\n",
    "# Fit the scaler on the data\n",
    "scaler.fit(Columns_to_Scale)\n",
    "\n",
    "# Transform the data\n",
    "scaled_data = scaler.transform(Columns_to_Scale)\n",
    "\n",
    "# Convert scaled data to DataFrame\n",
    "scaled_df = pd.DataFrame(scaled_data, columns=['Age', 'Salary'])\n",
    "\n",
    "# Initialize a new DataFrame to store after applying standard scaler\n",
    "df_minmax = df.copy()\n",
    "\n",
    "# Replace scaled columns in the original DataFrame\n",
    "df_minmax[['Age', 'Salary']] = scaled_df\n",
    "\n",
    "# Print the DataFrame with scaled columns replaced by original values\n",
    "print(df_minmax)\n",
    "\n"
   ]
  },
  {
   "cell_type": "code",
   "execution_count": 45,
   "id": "39b27352-5d38-43b4-8b8a-50bb5627320a",
   "metadata": {},
   "outputs": [
    {
     "name": "stdout",
     "output_type": "stream",
     "text": [
      "     Company       Age    Salary  State  Country  Gender\n",
      "0          3  0.081081  0.477350      2        0       0\n",
      "1          2  0.351351  0.477350      6        0       0\n",
      "2          3  0.486486  0.137817      1        0       0\n",
      "3          2  0.621622  0.217480      4        0       0\n",
      "4          3  0.162162  0.331285      6        0       0\n",
      "..       ...       ...       ...    ...      ...     ...\n",
      "139        2  0.135135  0.809491      6        0       0\n",
      "140        3  0.432432  0.903039      1        0       1\n",
      "141        2  0.729730  0.335154      4        0       1\n",
      "142        3  0.432432  0.448959      6        0       1\n",
      "143        2  0.135135  0.809491      3        0       0\n",
      "\n",
      "[144 rows x 6 columns]\n"
     ]
    }
   ],
   "source": [
    "#dataframe after label encoding & minmax scaling\n",
    "\n",
    "# Initialize a new DataFrame to store after applying standard scaler\n",
    "df_minmax = df_label_encoded.copy()\n",
    "\n",
    "# Replace scaled columns in the original DataFrame\n",
    "df_minmax[['Age', 'Salary']] = scaled_df\n",
    "\n",
    "# Print the DataFrame with scaled columns replaced by original values\n",
    "print(df_minmax)"
   ]
  },
  {
   "cell_type": "code",
   "execution_count": 46,
   "id": "50f6d4f6-3e2b-436d-8ad8-8f98daf23e7e",
   "metadata": {},
   "outputs": [
    {
     "name": "stdout",
     "output_type": "stream",
     "text": [
      "     Company       Age    Salary     State Country  Gender  is_TCS  \\\n",
      "0        TCS  0.081081  0.477350   Chennai   India       0     0.0   \n",
      "1    Infosys  0.351351  0.477350    Mumbai   India       0     0.0   \n",
      "2        TCS  0.486486  0.137817  Calcutta   India       0     0.0   \n",
      "3    Infosys  0.621622  0.217480     Delhi   India       0     0.0   \n",
      "4        TCS  0.162162  0.331285    Mumbai   India       0     0.0   \n",
      "..       ...       ...       ...       ...     ...     ...     ...   \n",
      "139  Infosys  0.135135  0.809491    Mumbai   India       0     0.0   \n",
      "140      TCS  0.432432  0.903039  Calcutta   India       1     0.0   \n",
      "141  Infosys  0.729730  0.335154     Delhi   India       1     0.0   \n",
      "142      TCS  0.432432  0.448959    Mumbai   India       1     0.0   \n",
      "143  Infosys  0.135135  0.809491    Cochin   India       0     0.0   \n",
      "\n",
      "     is_Infosys  is_CTS  is_Congnizant  ...  is_Calcutta  is_Delhi  \\\n",
      "0           0.0     0.0            1.0  ...          1.0       0.0   \n",
      "1           0.0     1.0            0.0  ...          0.0       0.0   \n",
      "2           0.0     0.0            1.0  ...          0.0       0.0   \n",
      "3           0.0     1.0            0.0  ...          0.0       0.0   \n",
      "4           0.0     0.0            1.0  ...          0.0       0.0   \n",
      "..          ...     ...            ...  ...          ...       ...   \n",
      "139         0.0     1.0            0.0  ...          0.0       0.0   \n",
      "140         0.0     0.0            1.0  ...          0.0       0.0   \n",
      "141         0.0     1.0            0.0  ...          0.0       0.0   \n",
      "142         0.0     0.0            1.0  ...          0.0       0.0   \n",
      "143         0.0     1.0            0.0  ...          0.0       1.0   \n",
      "\n",
      "     is_Podicherry  is_Cochin  is_Noida  is_Hyderabad  is_Bhopal  is_Nagpur  \\\n",
      "0              0.0        0.0       0.0           0.0        0.0        0.0   \n",
      "1              0.0        0.0       1.0           0.0        0.0        0.0   \n",
      "2              0.0        0.0       0.0           0.0        0.0        0.0   \n",
      "3              1.0        0.0       0.0           0.0        0.0        0.0   \n",
      "4              0.0        0.0       1.0           0.0        0.0        0.0   \n",
      "..             ...        ...       ...           ...        ...        ...   \n",
      "139            0.0        0.0       1.0           0.0        0.0        0.0   \n",
      "140            0.0        0.0       0.0           0.0        0.0        0.0   \n",
      "141            1.0        0.0       0.0           0.0        0.0        0.0   \n",
      "142            0.0        0.0       1.0           0.0        0.0        0.0   \n",
      "143            0.0        0.0       0.0           0.0        0.0        0.0   \n",
      "\n",
      "     is_Pune  is_India  \n",
      "0        0.0       1.0  \n",
      "1        0.0       1.0  \n",
      "2        0.0       1.0  \n",
      "3        0.0       1.0  \n",
      "4        0.0       1.0  \n",
      "..       ...       ...  \n",
      "139      0.0       1.0  \n",
      "140      0.0       1.0  \n",
      "141      0.0       1.0  \n",
      "142      0.0       1.0  \n",
      "143      0.0       1.0  \n",
      "\n",
      "[144 rows x 22 columns]\n"
     ]
    }
   ],
   "source": [
    "#dataframe after OneHotEncoding & minmax scaling\n",
    "\n",
    "# Initialize a new DataFrame to store after applying standard scaler\n",
    "df_minmax = df_one_hot_encoded.copy()\n",
    "\n",
    "# Replace scaled columns in the original DataFrame\n",
    "df_minmax[['Age', 'Salary']] = scaled_df\n",
    "\n",
    "# Print the DataFrame with scaled columns replaced by original values\n",
    "print(df_minmax)"
   ]
  },
  {
   "cell_type": "code",
   "execution_count": null,
   "id": "252d4afd-5c58-4a1c-8ecb-c0dfd2fabaa3",
   "metadata": {},
   "outputs": [],
   "source": []
  },
  {
   "cell_type": "code",
   "execution_count": null,
   "id": "554a08c2-3b08-45b5-b844-c9a6aa83b3b1",
   "metadata": {},
   "outputs": [],
   "source": []
  }
 ],
 "metadata": {
  "kernelspec": {
   "display_name": "Python 3 (ipykernel)",
   "language": "python",
   "name": "python3"
  },
  "language_info": {
   "codemirror_mode": {
    "name": "ipython",
    "version": 3
   },
   "file_extension": ".py",
   "mimetype": "text/x-python",
   "name": "python",
   "nbconvert_exporter": "python",
   "pygments_lexer": "ipython3",
   "version": "3.12.0"
  }
 },
 "nbformat": 4,
 "nbformat_minor": 5
}
